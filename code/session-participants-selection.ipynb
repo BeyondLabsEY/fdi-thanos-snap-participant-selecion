{
 "cells": [
  {
   "cell_type": "markdown",
   "metadata": {},
   "source": [
    "## Seleção dos participantes do Fronteiras da Inovação S01E01"
   ]
  },
  {
   "cell_type": "markdown",
   "metadata": {},
   "source": [
    "Recebemos muitos participantes nesta evento e para tornar o processo de escolha o mais transparente o possível, construímos um algoritmos simples que pode ser verificado por qualquer um. 😎"
   ]
  },
  {
   "cell_type": "markdown",
   "metadata": {},
   "source": [
    " ![](thanos.gif) "
   ]
  },
  {
   "cell_type": "markdown",
   "metadata": {},
   "source": [
    "Importação das bibliotecas necessárias."
   ]
  },
  {
   "cell_type": "code",
   "execution_count": null,
   "metadata": {
    "collapsed": true
   },
   "outputs": [],
   "source": [
    "import pandas as pd\n",
    "from pandas import ExcelWriter\n",
    "from pandas import ExcelFile"
   ]
  },
  {
   "cell_type": "markdown",
   "metadata": {},
   "source": [
    "Importação dos dados exportados do *Typeform*. O *sheetname* sempre vem fora de padrão, portanto é necessário abrir antes o arquivo para descobrir o seu nome 😆."
   ]
  },
  {
   "cell_type": "code",
   "execution_count": null,
   "metadata": {},
   "outputs": [],
   "source": [
    "df = pd.read_excel(\"responses.xlsx\", sheet_name=\"SAKlgu\")\n",
    "\n",
    "print(\"Nome de colunas:\")\n",
    "print(df.columns)"
   ]
  },
  {
   "cell_type": "markdown",
   "metadata": {},
   "source": [
    "A coluna do e-mail será usada para filtrar, randômicamente os 60 participantes, sem nenhuma distinção, *\"perfectly balanced as all things should be\"*.\n",
    "\n",
    "Use o mesmo *random_state* para simular o sorteio."
   ]
  },
  {
   "cell_type": "code",
   "execution_count": null,
   "metadata": {},
   "outputs": [],
   "source": [
    "df[['Nome','Sobrenome']].sample(70, random_state=10)"
   ]
  }
 ],
 "metadata": {
  "kernelspec": {
   "display_name": "Python 3",
   "language": "python",
   "name": "python3"
  },
  "language_info": {
   "codemirror_mode": {
    "name": "ipython",
    "version": 3
   },
   "file_extension": ".py",
   "mimetype": "text/x-python",
   "name": "python",
   "nbconvert_exporter": "python",
   "pygments_lexer": "ipython3",
   "version": "3.6.5"
  }
 },
 "nbformat": 4,
 "nbformat_minor": 2
}
