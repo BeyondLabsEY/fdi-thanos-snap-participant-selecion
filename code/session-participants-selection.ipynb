{
 "cells": [
  {
   "cell_type": "markdown",
   "metadata": {},
   "source": [
    "## Seleção dos participantes do Fronteiras da Inovação S01E01"
   ]
  },
  {
   "cell_type": "markdown",
   "metadata": {},
   "source": [
    "Recebemos muitos participantes nesta evento e para tornar o processo de escolha o mais transparente o possível, construímos um algoritmos simples que pode ser verificado por qualquer um. 😎"
   ]
  },
  {
   "cell_type": "markdown",
   "metadata": {},
   "source": [
    " ![](thanos.gif) "
   ]
  },
  {
   "cell_type": "markdown",
   "metadata": {},
   "source": [
    "Importação das bibliotecas necessárias."
   ]
  },
  {
   "cell_type": "code",
   "execution_count": 1,
   "metadata": {
    "collapsed": true
   },
   "outputs": [],
   "source": [
    "import pandas as pd\n",
    "from pandas import ExcelWriter\n",
    "from pandas import ExcelFile"
   ]
  },
  {
   "cell_type": "markdown",
   "metadata": {},
   "source": [
    "Importação dos dados exportados do *Typeform*. O *sheetname* sempre vem fora de padrão, portanto é necessário abrir antes o arquivo para descobrir o seu nome 😆."
   ]
  },
  {
   "cell_type": "code",
   "execution_count": 2,
   "metadata": {},
   "outputs": [
    {
     "name": "stdout",
     "output_type": "stream",
     "text": [
      "Nome de colunas:\n",
      "Index(['Id', 'Nome', 'Sobrenome', 'Start Date (UTC)', 'Submit Date (UTC)',\n",
      "       'Network ID'],\n",
      "      dtype='object')\n"
     ]
    }
   ],
   "source": [
    "df = pd.read_excel(\"responses.xlsx\", sheet_name=\"SAKlgu\")\n",
    "\n",
    "print(\"Nome de colunas:\")\n",
    "print(df.columns)"
   ]
  },
  {
   "cell_type": "markdown",
   "metadata": {},
   "source": [
    "A coluna do e-mail será usada para filtrar, randômicamente os 60 participantes, sem nenhuma distinção, *\"perfectly balanced as all things should be\"*.\n",
    "\n",
    "Use o mesmo *random_state* para simular o sorteio."
   ]
  },
  {
   "cell_type": "code",
   "execution_count": 3,
   "metadata": {},
   "outputs": [
    {
     "name": "stdout",
     "output_type": "stream",
     "text": [
      "Nome     Sobrenome\n",
      "                    Maria         Costa\n",
      "                   Nelson         Filho\n",
      "            thiago crisol        Crisol\n",
      "                   Victor     Bergamini\n",
      "                   Carlos          Pino\n",
      "                  Gabriel         Souza\n",
      "                  Mariane         Suiya\n",
      "         Guilherme Vieira        Vieira\n",
      "                    Renan     Barcellos\n",
      "                   Felipe       Rogério\n",
      "                   MURILO     BENEVIDES\n",
      "                  ricardo      miyazaki\n",
      "                 Isabella        Izidio\n",
      "                   Rafael          Dias\n",
      "                     Luiz       Vergari\n",
      "                  Conrado     Tarricone\n",
      "                   gisela        Thiele\n",
      "                  Horacio      Carneiro\n",
      "                     João      Castañón\n",
      "                  Juliana      Protásio\n",
      "                 Verônica         Silva\n",
      "                    Lucas         Elias\n",
      "                 victoria       modesto\n",
      "                   Murilo      Morgante\n",
      "                   Nataly       briquet\n",
      "                    Kelly        Soares\n",
      "                 Isabella       Felippe\n",
      "                    Diego        Ishiwa\n",
      "                  Daniele         Penhã\n",
      "                   Márcio    Nascimento\n",
      "                  Larissa       Veronez\n",
      "                   Camila      Santiago\n",
      "                   Roanny      Medeiros\n",
      "                  Douglas      Monteiro\n",
      "                   Silvia          Rosa\n",
      "                   elaine         souza\n",
      "                Segundino  da la Fuente\n",
      "                   Rafael          Koga\n",
      "                   Nilton        Xavier\n",
      "                   Camila       Hayashi\n",
      "                  Isadora        Araujo\n",
      "                      Edi      Teixeira\n",
      "                   Débora      Coutinho\n",
      "                  Emanuel        Baldan\n",
      "                    Vitor     Conceição\n",
      "                 Carolina         Fazio\n",
      "                    Vitor        Vargas\n",
      "                  Mariana      Talaisys\n",
      "                 Vinicius     Pesqueira\n",
      "                    Jaime      Dionizio\n",
      "                   felipe      ferreira\n",
      "                     Eric         Tonza\n",
      "                   Rafael        Coelho\n",
      "                     Joel         Dutra\n",
      "                   Daniel       Garrido\n",
      "Eduardo Fernandes Batista       Batista\n",
      "                 Victoria       Masutti\n",
      "                    Tiago       Santana\n",
      "                     João        Macedo\n",
      "                  Marcelo       vassari\n",
      "                  Giovana    Martinelli\n",
      "                  Emerson       Morelli\n",
      "                  Larissa         Paiva\n",
      "                 Fernanda         Gobbo\n",
      "                  Tatiane       Gouveia\n",
      "                   Camila       Sacchis\n",
      "                    Isana      Oliveira\n",
      "                     Igor       Marques\n",
      "                   Victor         Sousa\n",
      "                     Taís          Slav\n"
     ]
    }
   ],
   "source": [
    "print(df[['Nome','Sobrenome']].sample(70, random_state=10).to_string(index=False))"
   ]
  }
 ],
 "metadata": {
  "kernelspec": {
   "display_name": "Python 3",
   "language": "python",
   "name": "python3"
  },
  "language_info": {
   "codemirror_mode": {
    "name": "ipython",
    "version": 3
   },
   "file_extension": ".py",
   "mimetype": "text/x-python",
   "name": "python",
   "nbconvert_exporter": "python",
   "pygments_lexer": "ipython3",
   "version": "3.6.5"
  }
 },
 "nbformat": 4,
 "nbformat_minor": 2
}
